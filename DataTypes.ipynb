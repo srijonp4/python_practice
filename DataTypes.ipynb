{
 "cells": [
  {
   "cell_type": "markdown",
   "id": "c07509f5",
   "metadata": {},
   "source": [
    "                    Basic Datatypes\n",
    "1. int,\n",
    "2. float,\n",
    "3. str(string),\n",
    "\n",
    "\n",
    "                    Data structures\n",
    "4. list(ordered sequence of objects[10,\"hello\",200]),\n",
    "5. dict(dictionaries eg: unordered key: value pairs{\"mykey\":\"value\",\"name\":\"srijon\"}),\n",
    "6. tup(tuples eg : ordered immutable sequence of objects eg:  (10,\"mykey\",200),\n",
    "7. set(Sets , unordered collection of unique objects eg: {\"a\",\"b\"}.)\n",
    "\n",
    "\n",
    "                   Logical datatypes\n",
    "8. bool (booleans , logical value => True/False)"
   ]
  },
  {
   "cell_type": "markdown",
   "id": "1ffdd3c5",
   "metadata": {},
   "source": [
    "\n",
    "# Python supports Dynamic typing:-"
   ]
  },
  {
   "cell_type": "code",
   "execution_count": 21,
   "id": "92f684db",
   "metadata": {},
   "outputs": [
    {
     "name": "stdout",
     "output_type": "stream",
     "text": [
      "['Saxxy', 1]\n"
     ]
    },
    {
     "data": {
      "text/plain": [
       "list"
      ]
     },
     "execution_count": 21,
     "metadata": {},
     "output_type": "execute_result"
    }
   ],
   "source": [
    "my_dog = 1 \n",
    "my_dog =[\"Saxxy\",1]\n",
    "print(my_dog)\n",
    "type(my_dog)\n",
    "#to check what typeof datatype.."
   ]
  },
  {
   "cell_type": "markdown",
   "id": "b25f84e1",
   "metadata": {},
   "source": [
    "# Strings"
   ]
  },
  {
   "cell_type": "code",
   "execution_count": 16,
   "id": "d843f5ea",
   "metadata": {},
   "outputs": [
    {
     "data": {
      "text/plain": [
       "str"
      ]
     },
     "execution_count": 16,
     "metadata": {},
     "output_type": "execute_result"
    }
   ],
   "source": [
    "\"hello\"\n",
    "'hello'\n",
    "ans = \"hello Srijon's friend\"\n",
    "type(ans)"
   ]
  },
  {
   "cell_type": "code",
   "execution_count": 11,
   "id": "011acac9",
   "metadata": {},
   "outputs": [
    {
     "name": "stdout",
     "output_type": "stream",
     "text": [
      "o\n"
     ]
    }
   ],
   "source": [
    "print(ans[4])\n",
    "#indexing\n"
   ]
  },
  {
   "cell_type": "code",
   "execution_count": 18,
   "id": "dc51e208",
   "metadata": {},
   "outputs": [
    {
     "name": "stdout",
     "output_type": "stream",
     "text": [
      "d\n"
     ]
    }
   ],
   "source": [
    "# reverse indexing\n",
    "\n",
    "print(ans[-1])\n",
    "\n",
    "\n",
    "\n"
   ]
  },
  {
   "cell_type": "code",
   "execution_count": 19,
   "id": "53251cb9",
   "metadata": {},
   "outputs": [
    {
     "name": "stdout",
     "output_type": "stream",
     "text": [
      "n\n"
     ]
    }
   ],
   "source": [
    "# reverse indexing\n",
    "print(ans[-2])"
   ]
  },
  {
   "cell_type": "code",
   "execution_count": 29,
   "id": "1278fe9a",
   "metadata": {},
   "outputs": [
    {
     "name": "stdout",
     "output_type": "stream",
     "text": [
      "hello Srijon\n"
     ]
    }
   ],
   "source": [
    "#Slicing\n",
    "# print(ans[Start:Stop:Step])\n",
    "# stop indexing means go upto but not including the position\n",
    "\n",
    "length = ans[0:12]\n",
    "print(length)"
   ]
  },
  {
   "cell_type": "code",
   "execution_count": 26,
   "id": "08a12c22",
   "metadata": {},
   "outputs": [
    {
     "data": {
      "text/plain": [
       "12"
      ]
     },
     "execution_count": 26,
     "metadata": {},
     "output_type": "execute_result"
    }
   ],
   "source": [
    "len(length)#to check the length of the string"
   ]
  },
  {
   "cell_type": "code",
   "execution_count": 30,
   "id": "4447e284",
   "metadata": {},
   "outputs": [
    {
     "data": {
      "text/plain": [
       "'Srijon'"
      ]
     },
     "execution_count": 30,
     "metadata": {},
     "output_type": "execute_result"
    }
   ],
   "source": [
    "length[6:12]"
   ]
  },
  {
   "cell_type": "code",
   "execution_count": 31,
   "id": "06873bd8",
   "metadata": {},
   "outputs": [
    {
     "data": {
      "text/plain": [
       "'hloSio'"
      ]
     },
     "execution_count": 31,
     "metadata": {},
     "output_type": "execute_result"
    }
   ],
   "source": [
    "# stepsize\n",
    "length[::2]"
   ]
  },
  {
   "cell_type": "code",
   "execution_count": 33,
   "id": "1337c072",
   "metadata": {},
   "outputs": [
    {
     "data": {
      "text/plain": [
       "'nojirS olleh'"
      ]
     },
     "execution_count": 33,
     "metadata": {},
     "output_type": "execute_result"
    }
   ],
   "source": [
    "#to rverse String cheatttttt bitchh\n",
    "length[::-1]"
   ]
  },
  {
   "cell_type": "markdown",
   "id": "54e56693",
   "metadata": {},
   "source": [
    "# Immutable String\n"
   ]
  },
  {
   "cell_type": "code",
   "execution_count": 35,
   "id": "41a9809f",
   "metadata": {},
   "outputs": [],
   "source": [
    "name = \"Bitch\""
   ]
  },
  {
   "cell_type": "code",
   "execution_count": 36,
   "id": "3f86646d",
   "metadata": {},
   "outputs": [
    {
     "ename": "TypeError",
     "evalue": "'str' object does not support item assignment",
     "output_type": "error",
     "traceback": [
      "\u001b[0;31m---------------------------------------------------------------------------\u001b[0m",
      "\u001b[0;31mTypeError\u001b[0m                                 Traceback (most recent call last)",
      "Cell \u001b[0;32mIn [36], line 1\u001b[0m\n\u001b[0;32m----> 1\u001b[0m \u001b[43mname\u001b[49m\u001b[43m[\u001b[49m\u001b[38;5;241;43m0\u001b[39;49m\u001b[43m]\u001b[49m \u001b[38;5;241m=\u001b[39m \u001b[38;5;124m\"\u001b[39m\u001b[38;5;124mS\u001b[39m\u001b[38;5;124m\"\u001b[39m\n",
      "\u001b[0;31mTypeError\u001b[0m: 'str' object does not support item assignment"
     ]
    }
   ],
   "source": [
    "name[0] = \"S\" \n",
    "# error cuz Strings are immutable"
   ]
  },
  {
   "cell_type": "code",
   "execution_count": 44,
   "id": "b6c13c9f",
   "metadata": {},
   "outputs": [
    {
     "data": {
      "text/plain": [
       "'Sitch'"
      ]
     },
     "execution_count": 44,
     "metadata": {},
     "output_type": "execute_result"
    }
   ],
   "source": [
    "Conc = name[1:5]\n",
    "'S'+Conc "
   ]
  },
  {
   "cell_type": "code",
   "execution_count": 46,
   "id": "eb4e3027",
   "metadata": {},
   "outputs": [
    {
     "data": {
      "text/plain": [
       "'itchitchitchitchitchitchitchitchitchitchitchitchitchitchitchitchitchitchitchitchitchitchitchitchitchitchitchitchitchitchitchitchitchitchitchitchitchitchitchitchitchitchitchitchitchitchitchitchitchitchitchitchitchitchitchitchitchitchitchitchitchitchitchitchitchitchitchitchitchitchitchitchitchitchitchitchitchitchitchitchitchitchitchitchitchitchitchitchitchitchitchitchitchitchitchitchitchitchitchitch'"
      ]
     },
     "execution_count": 46,
     "metadata": {},
     "output_type": "execute_result"
    }
   ],
   "source": [
    "Conc *  100"
   ]
  },
  {
   "cell_type": "code",
   "execution_count": 51,
   "id": "ed2e2da2",
   "metadata": {},
   "outputs": [],
   "source": [
    " x = \"Hello World\""
   ]
  },
  {
   "cell_type": "code",
   "execution_count": 48,
   "id": "efe02900",
   "metadata": {},
   "outputs": [
    {
     "data": {
      "text/plain": [
       "'HELLO WORLD'"
      ]
     },
     "execution_count": 48,
     "metadata": {},
     "output_type": "execute_result"
    }
   ],
   "source": [
    "x.upper()"
   ]
  },
  {
   "cell_type": "code",
   "execution_count": 49,
   "id": "e476c7cf",
   "metadata": {},
   "outputs": [
    {
     "data": {
      "text/plain": [
       "'hello world'"
      ]
     },
     "execution_count": 49,
     "metadata": {},
     "output_type": "execute_result"
    }
   ],
   "source": [
    "x.lower()"
   ]
  },
  {
   "cell_type": "code",
   "execution_count": 52,
   "id": "ba91a502",
   "metadata": {},
   "outputs": [
    {
     "data": {
      "text/plain": [
       "['Hello', 'World']"
      ]
     },
     "execution_count": 52,
     "metadata": {},
     "output_type": "execute_result"
    }
   ],
   "source": [
    "x.split() #split based on white space or the letter"
   ]
  },
  {
   "cell_type": "code",
   "execution_count": 54,
   "id": "2611d071",
   "metadata": {},
   "outputs": [
    {
     "data": {
      "text/plain": [
       "['Hell', ' W', 'rld']"
      ]
     },
     "execution_count": 54,
     "metadata": {},
     "output_type": "execute_result"
    }
   ],
   "source": [
    "x.split(\"o\")"
   ]
  },
  {
   "cell_type": "markdown",
   "id": "63356bc8",
   "metadata": {},
   "source": [
    "# String Interpolation\n"
   ]
  },
  {
   "cell_type": "code",
   "execution_count": 55,
   "id": "09f32004",
   "metadata": {},
   "outputs": [
    {
     "name": "stdout",
     "output_type": "stream",
     "text": [
      "this is a String number one\n"
     ]
    }
   ],
   "source": [
    "# dot format\n",
    "print('this is a String {}'.format(\"number one\"))"
   ]
  },
  {
   "cell_type": "code",
   "execution_count": 56,
   "id": "47de06b4",
   "metadata": {},
   "outputs": [
    {
     "name": "stdout",
     "output_type": "stream",
     "text": [
      "my name is Srijon i am 19 years old.i was born and raised in sodepur\n"
     ]
    }
   ],
   "source": [
    "my_name = \"Srijon\"\n",
    "print(\"my name is {} i am {} years old.i was born and raised in {}\".format(my_name,19,\"sodepur\"))"
   ]
  },
  {
   "cell_type": "code",
   "execution_count": 58,
   "id": "f460585a",
   "metadata": {},
   "outputs": [
    {
     "name": "stdout",
     "output_type": "stream",
     "text": [
      "the quick brown fox\n"
     ]
    }
   ],
   "source": [
    "print('{t} {q} {b} {f}'.format(t=\"the\",q=\"quick\",b=\"brown\",f=\"fox\"))"
   ]
  },
  {
   "cell_type": "code",
   "execution_count": 60,
   "id": "998b976d",
   "metadata": {},
   "outputs": [
    {
     "name": "stdout",
     "output_type": "stream",
     "text": [
      "the quick brown fox\n"
     ]
    }
   ],
   "source": [
    "print('{0} {1} {2} {3}'.format(\"the\",\"quick\",\"brown\",\"fox\"))"
   ]
  },
  {
   "cell_type": "markdown",
   "id": "24e241c4",
   "metadata": {},
   "source": [
    "# Float Formatting "
   ]
  },
  {
   "cell_type": "code",
   "execution_count": 62,
   "id": "8996887a",
   "metadata": {},
   "outputs": [],
   "source": [
    "result = 22/7\n",
    "{value:width.precision}"
   ]
  },
  {
   "cell_type": "code",
   "execution_count": 63,
   "id": "f15c99d2",
   "metadata": {},
   "outputs": [
    {
     "name": "stdout",
     "output_type": "stream",
     "text": [
      "result is 3.14285714\n"
     ]
    }
   ],
   "source": [
    "print(\"result is {r:10.8f}\".format(r = result))"
   ]
  },
  {
   "cell_type": "code",
   "execution_count": null,
   "id": "c757f232",
   "metadata": {},
   "outputs": [],
   "source": [
    "print(\"\")"
   ]
  },
  {
   "cell_type": "markdown",
   "id": "6d48d129",
   "metadata": {},
   "source": [
    "# f String"
   ]
  },
  {
   "cell_type": "code",
   "execution_count": 66,
   "id": "14d0ed81",
   "metadata": {},
   "outputs": [
    {
     "name": "stdout",
     "output_type": "stream",
     "text": [
      "i am         3.1429\n"
     ]
    }
   ],
   "source": [
    "#print(f'{}')\n",
    "print(f\"i am {result:14.5}\")"
   ]
  },
  {
   "cell_type": "markdown",
   "id": "95168862",
   "metadata": {},
   "source": [
    "# lists"
   ]
  },
  {
   "cell_type": "code",
   "execution_count": 67,
   "id": "fee78660",
   "metadata": {},
   "outputs": [],
   "source": [
    "myList=[1,2,3]"
   ]
  },
  {
   "cell_type": "code",
   "execution_count": 70,
   "id": "7f7d1505",
   "metadata": {},
   "outputs": [],
   "source": [
    "myList2=[1,\"Srijon\",100.585,\"rocky \",\"kurkure\"]"
   ]
  },
  {
   "cell_type": "code",
   "execution_count": 71,
   "id": "b7c53c0c",
   "metadata": {},
   "outputs": [
    {
     "data": {
      "text/plain": [
       "5"
      ]
     },
     "execution_count": 71,
     "metadata": {},
     "output_type": "execute_result"
    }
   ],
   "source": [
    "len(myList2)"
   ]
  },
  {
   "cell_type": "code",
   "execution_count": 100,
   "id": "c6cdfc4e",
   "metadata": {},
   "outputs": [],
   "source": [
    "myList3 = myList + myList2"
   ]
  },
  {
   "cell_type": "code",
   "execution_count": 101,
   "id": "406649c4",
   "metadata": {},
   "outputs": [
    {
     "data": {
      "text/plain": [
       "8"
      ]
     },
     "execution_count": 101,
     "metadata": {},
     "output_type": "execute_result"
    }
   ],
   "source": [
    "len(myList3)"
   ]
  },
  {
   "cell_type": "code",
   "execution_count": 102,
   "id": "4d7ea2cb",
   "metadata": {},
   "outputs": [
    {
     "data": {
      "text/plain": [
       "[1, 2, 3, 1, 'Srijon', 100.585, 'rocky ', 'kurkure']"
      ]
     },
     "execution_count": 102,
     "metadata": {},
     "output_type": "execute_result"
    }
   ],
   "source": [
    "myList3\n"
   ]
  },
  {
   "cell_type": "code",
   "execution_count": 103,
   "id": "87516fda",
   "metadata": {},
   "outputs": [],
   "source": [
    "myList3[3] = 4 #changing ist element"
   ]
  },
  {
   "cell_type": "code",
   "execution_count": 104,
   "id": "2e95ecab",
   "metadata": {},
   "outputs": [
    {
     "data": {
      "text/plain": [
       "[1, 2, 3, 4, 'Srijon', 100.585, 'rocky ', 'kurkure']"
      ]
     },
     "execution_count": 104,
     "metadata": {},
     "output_type": "execute_result"
    }
   ],
   "source": [
    "myList3"
   ]
  },
  {
   "cell_type": "code",
   "execution_count": 105,
   "id": "cd05f4d4",
   "metadata": {},
   "outputs": [],
   "source": [
    "myList3.append(\"last\")"
   ]
  },
  {
   "cell_type": "code",
   "execution_count": 106,
   "id": "8c0ce45f",
   "metadata": {},
   "outputs": [
    {
     "data": {
      "text/plain": [
       "[1, 2, 3, 4, 'Srijon', 100.585, 'rocky ', 'kurkure', 'last']"
      ]
     },
     "execution_count": 106,
     "metadata": {},
     "output_type": "execute_result"
    }
   ],
   "source": [
    "myList3"
   ]
  },
  {
   "cell_type": "code",
   "execution_count": 107,
   "id": "6f05957f",
   "metadata": {},
   "outputs": [],
   "source": [
    "# popedItem = myList3.pop(5)"
   ]
  },
  {
   "cell_type": "code",
   "execution_count": 108,
   "id": "5cbe0360",
   "metadata": {},
   "outputs": [
    {
     "data": {
      "text/plain": [
       "[1, 2, 3, 4, 'Srijon', 100.585, 'rocky ', 'kurkure', 'last']"
      ]
     },
     "execution_count": 108,
     "metadata": {},
     "output_type": "execute_result"
    }
   ],
   "source": [
    "myList3"
   ]
  },
  {
   "cell_type": "code",
   "execution_count": 112,
   "id": "88a6c433",
   "metadata": {},
   "outputs": [],
   "source": [
    "numList=[1000,1,27,705,656,108,5,-8]"
   ]
  },
  {
   "cell_type": "code",
   "execution_count": 113,
   "id": "c101a3ec",
   "metadata": {},
   "outputs": [],
   "source": [
    "numList.sort()"
   ]
  },
  {
   "cell_type": "code",
   "execution_count": 114,
   "id": "010d08fb",
   "metadata": {},
   "outputs": [
    {
     "data": {
      "text/plain": [
       "[-8, 1, 5, 27, 108, 656, 705, 1000]"
      ]
     },
     "execution_count": 114,
     "metadata": {},
     "output_type": "execute_result"
    }
   ],
   "source": [
    "numList"
   ]
  },
  {
   "cell_type": "code",
   "execution_count": 115,
   "id": "82489389",
   "metadata": {},
   "outputs": [],
   "source": [
    "sortedList = numList"
   ]
  },
  {
   "cell_type": "code",
   "execution_count": 116,
   "id": "e601c9ef",
   "metadata": {},
   "outputs": [
    {
     "data": {
      "text/plain": [
       "[-8, 1, 5, 27, 108, 656, 705, 1000]"
      ]
     },
     "execution_count": 116,
     "metadata": {},
     "output_type": "execute_result"
    }
   ],
   "source": [
    "sortedList\n"
   ]
  },
  {
   "cell_type": "code",
   "execution_count": 117,
   "id": "0abafa72",
   "metadata": {},
   "outputs": [],
   "source": [
    "sortedList.reverse()"
   ]
  },
  {
   "cell_type": "code",
   "execution_count": 118,
   "id": "e59a8638",
   "metadata": {},
   "outputs": [
    {
     "data": {
      "text/plain": [
       "[1000, 705, 656, 108, 27, 5, 1, -8]"
      ]
     },
     "execution_count": 118,
     "metadata": {},
     "output_type": "execute_result"
    }
   ],
   "source": [
    "sortedList\n"
   ]
  },
  {
   "cell_type": "markdown",
   "id": "5544857a",
   "metadata": {},
   "source": [
    "# Dictionary"
   ]
  },
  {
   "cell_type": "code",
   "execution_count": 119,
   "id": "c1e74068",
   "metadata": {},
   "outputs": [],
   "source": [
    "myDict={\"sortList1\":sortedList}"
   ]
  },
  {
   "cell_type": "code",
   "execution_count": 120,
   "id": "2bac943f",
   "metadata": {},
   "outputs": [
    {
     "data": {
      "text/plain": [
       "{'sortList1': [1000, 705, 656, 108, 27, 5, 1, -8]}"
      ]
     },
     "execution_count": 120,
     "metadata": {},
     "output_type": "execute_result"
    }
   ],
   "source": [
    "myDict"
   ]
  },
  {
   "cell_type": "code",
   "execution_count": 122,
   "id": "ad76ad04",
   "metadata": {},
   "outputs": [],
   "source": [
    "myDict2={\"sortList1\":sortedList,\"dict1\":myDict, \"name\":\"srijon\",\"age\":19}"
   ]
  },
  {
   "cell_type": "code",
   "execution_count": 123,
   "id": "0880e7d4",
   "metadata": {},
   "outputs": [
    {
     "data": {
      "text/plain": [
       "'srijon'"
      ]
     },
     "execution_count": 123,
     "metadata": {},
     "output_type": "execute_result"
    }
   ],
   "source": [
    "myDict2[\"name\"]"
   ]
  },
  {
   "cell_type": "code",
   "execution_count": 124,
   "id": "4cb85bd6",
   "metadata": {},
   "outputs": [
    {
     "data": {
      "text/plain": [
       "19"
      ]
     },
     "execution_count": 124,
     "metadata": {},
     "output_type": "execute_result"
    }
   ],
   "source": [
    "myDict2[\"age\"]\n"
   ]
  },
  {
   "cell_type": "code",
   "execution_count": 125,
   "id": "d41d2b70",
   "metadata": {},
   "outputs": [
    {
     "data": {
      "text/plain": [
       "{'sortList1': [1000, 705, 656, 108, 27, 5, 1, -8]}"
      ]
     },
     "execution_count": 125,
     "metadata": {},
     "output_type": "execute_result"
    }
   ],
   "source": [
    "myDict2[\"dict1\"]"
   ]
  },
  {
   "cell_type": "code",
   "execution_count": 126,
   "id": "506b7b83",
   "metadata": {},
   "outputs": [
    {
     "data": {
      "text/plain": [
       "[1000, 705, 656, 108, 27, 5, 1, -8]"
      ]
     },
     "execution_count": 126,
     "metadata": {},
     "output_type": "execute_result"
    }
   ],
   "source": [
    "myDict2[\"sortList1\"]"
   ]
  },
  {
   "cell_type": "code",
   "execution_count": 127,
   "id": "002ce270",
   "metadata": {},
   "outputs": [
    {
     "data": {
      "text/plain": [
       "{'sortList1': [1000, 705, 656, 108, 27, 5, 1, -8],\n",
       " 'dict1': {'sortList1': [1000, 705, 656, 108, 27, 5, 1, -8]},\n",
       " 'name': 'srijon',\n",
       " 'age': 19}"
      ]
     },
     "execution_count": 127,
     "metadata": {},
     "output_type": "execute_result"
    }
   ],
   "source": [
    "myDict2\n"
   ]
  },
  {
   "cell_type": "code",
   "execution_count": 128,
   "id": "854e8628",
   "metadata": {},
   "outputs": [
    {
     "data": {
      "text/plain": [
       "108"
      ]
     },
     "execution_count": 128,
     "metadata": {},
     "output_type": "execute_result"
    }
   ],
   "source": [
    "myDict2[\"sortList1\"][3]"
   ]
  },
  {
   "cell_type": "code",
   "execution_count": 130,
   "id": "6b0f3228",
   "metadata": {},
   "outputs": [
    {
     "data": {
      "text/plain": [
       "'SRIJON'"
      ]
     },
     "execution_count": 130,
     "metadata": {},
     "output_type": "execute_result"
    }
   ],
   "source": [
    "myDict2[\"name\"].upper()"
   ]
  },
  {
   "cell_type": "code",
   "execution_count": 131,
   "id": "d5b13d2a",
   "metadata": {},
   "outputs": [],
   "source": [
    "myDict2[\"place\"] = \"Sodepur\""
   ]
  },
  {
   "cell_type": "code",
   "execution_count": 132,
   "id": "28270a00",
   "metadata": {},
   "outputs": [
    {
     "data": {
      "text/plain": [
       "'SODEPUR'"
      ]
     },
     "execution_count": 132,
     "metadata": {},
     "output_type": "execute_result"
    }
   ],
   "source": [
    "myDict2[\"place\"].upper()"
   ]
  },
  {
   "cell_type": "code",
   "execution_count": 133,
   "id": "bd0c16b1",
   "metadata": {},
   "outputs": [
    {
     "data": {
      "text/plain": [
       "dict_keys(['sortList1', 'dict1', 'name', 'age', 'place'])"
      ]
     },
     "execution_count": 133,
     "metadata": {},
     "output_type": "execute_result"
    }
   ],
   "source": [
    "myDict2.keys()"
   ]
  },
  {
   "cell_type": "code",
   "execution_count": 134,
   "id": "62ec75be",
   "metadata": {},
   "outputs": [
    {
     "data": {
      "text/plain": [
       "dict_values([[1000, 705, 656, 108, 27, 5, 1, -8], {'sortList1': [1000, 705, 656, 108, 27, 5, 1, -8]}, 'srijon', 19, 'Sodepur'])"
      ]
     },
     "execution_count": 134,
     "metadata": {},
     "output_type": "execute_result"
    }
   ],
   "source": [
    "myDict2.values()"
   ]
  },
  {
   "cell_type": "code",
   "execution_count": 135,
   "id": "71e225e3",
   "metadata": {},
   "outputs": [
    {
     "data": {
      "text/plain": [
       "dict_items([('sortList1', [1000, 705, 656, 108, 27, 5, 1, -8]), ('dict1', {'sortList1': [1000, 705, 656, 108, 27, 5, 1, -8]}), ('name', 'srijon'), ('age', 19), ('place', 'Sodepur')])"
      ]
     },
     "execution_count": 135,
     "metadata": {},
     "output_type": "execute_result"
    }
   ],
   "source": [
    "myDict2.items()"
   ]
  },
  {
   "cell_type": "code",
   "execution_count": 136,
   "id": "415e9015",
   "metadata": {},
   "outputs": [
    {
     "data": {
      "text/plain": [
       "{'sortList1': [1000, 705, 656, 108, 27, 5, 1, -8],\n",
       " 'dict1': {'sortList1': [1000, 705, 656, 108, 27, 5, 1, -8]},\n",
       " 'name': 'srijon',\n",
       " 'age': 19,\n",
       " 'place': 'Sodepur'}"
      ]
     },
     "execution_count": 136,
     "metadata": {},
     "output_type": "execute_result"
    }
   ],
   "source": [
    "myDict2"
   ]
  },
  {
   "cell_type": "markdown",
   "id": "16bb738e",
   "metadata": {},
   "source": [
    "# Tuples(immutable)"
   ]
  },
  {
   "cell_type": "code",
   "execution_count": 155,
   "id": "d3c3e51c",
   "metadata": {},
   "outputs": [],
   "source": [
    "t = (1,2,3,3,22,5,1,1,1,2,1,1)"
   ]
  },
  {
   "cell_type": "code",
   "execution_count": 156,
   "id": "79ad8c91",
   "metadata": {},
   "outputs": [
    {
     "data": {
      "text/plain": [
       "(1, 2, 3, 3, 22, 5, 1, 1, 1, 2, 1, 1)"
      ]
     },
     "execution_count": 156,
     "metadata": {},
     "output_type": "execute_result"
    }
   ],
   "source": [
    "t"
   ]
  },
  {
   "cell_type": "code",
   "execution_count": 157,
   "id": "e6b400bf",
   "metadata": {},
   "outputs": [
    {
     "data": {
      "text/plain": [
       "6"
      ]
     },
     "execution_count": 157,
     "metadata": {},
     "output_type": "execute_result"
    }
   ],
   "source": [
    "t.count(1)"
   ]
  },
  {
   "cell_type": "code",
   "execution_count": 158,
   "id": "98d8ab43",
   "metadata": {},
   "outputs": [
    {
     "data": {
      "text/plain": [
       "2"
      ]
     },
     "execution_count": 158,
     "metadata": {},
     "output_type": "execute_result"
    }
   ],
   "source": [
    "t.count(3)"
   ]
  },
  {
   "cell_type": "code",
   "execution_count": 159,
   "id": "622822b0",
   "metadata": {},
   "outputs": [
    {
     "data": {
      "text/plain": [
       "2"
      ]
     },
     "execution_count": 159,
     "metadata": {},
     "output_type": "execute_result"
    }
   ],
   "source": [
    "t.index(3)"
   ]
  },
  {
   "cell_type": "code",
   "execution_count": 160,
   "id": "adf5787e",
   "metadata": {},
   "outputs": [],
   "source": [
    "t =(\"a\",\"a\",\"b\")"
   ]
  },
  {
   "cell_type": "code",
   "execution_count": 161,
   "id": "62fecc7d",
   "metadata": {},
   "outputs": [
    {
     "data": {
      "text/plain": [
       "('a', 'a', 'b')"
      ]
     },
     "execution_count": 161,
     "metadata": {},
     "output_type": "execute_result"
    }
   ],
   "source": [
    "t"
   ]
  },
  {
   "cell_type": "code",
   "execution_count": 162,
   "id": "64e0920e",
   "metadata": {},
   "outputs": [],
   "source": [
    "# t[0]=\"l\""
   ]
  },
  {
   "cell_type": "code",
   "execution_count": 163,
   "id": "e3f01a34",
   "metadata": {},
   "outputs": [],
   "source": [
    "j=[\"a\",\"a\",\"b\"]"
   ]
  },
  {
   "cell_type": "code",
   "execution_count": 164,
   "id": "4847648a",
   "metadata": {},
   "outputs": [
    {
     "data": {
      "text/plain": [
       "['a', 'a', 'b']"
      ]
     },
     "execution_count": 164,
     "metadata": {},
     "output_type": "execute_result"
    }
   ],
   "source": [
    "j"
   ]
  },
  {
   "cell_type": "code",
   "execution_count": 165,
   "id": "2d2cc44c",
   "metadata": {},
   "outputs": [],
   "source": [
    "j[1]=\"c\""
   ]
  },
  {
   "cell_type": "code",
   "execution_count": 166,
   "id": "84771fb8",
   "metadata": {},
   "outputs": [
    {
     "data": {
      "text/plain": [
       "['a', 'c', 'b']"
      ]
     },
     "execution_count": 166,
     "metadata": {},
     "output_type": "execute_result"
    }
   ],
   "source": [
    "j"
   ]
  },
  {
   "cell_type": "code",
   "execution_count": 167,
   "id": "8ea4e94e",
   "metadata": {},
   "outputs": [],
   "source": [
    "# we cant do this with tuple cus they are immutable"
   ]
  },
  {
   "cell_type": "code",
   "execution_count": 169,
   "id": "d34538cb",
   "metadata": {},
   "outputs": [
    {
     "data": {
      "text/plain": [
       "2"
      ]
     },
     "execution_count": 169,
     "metadata": {},
     "output_type": "execute_result"
    }
   ],
   "source": [
    "t.index(\"b\")"
   ]
  },
  {
   "cell_type": "markdown",
   "id": "47c1b3ee",
   "metadata": {},
   "source": [
    "# sets(only accept unique value)"
   ]
  },
  {
   "cell_type": "code",
   "execution_count": 171,
   "id": "4ac03ebf",
   "metadata": {},
   "outputs": [],
   "source": [
    "mySet= set()"
   ]
  },
  {
   "cell_type": "code",
   "execution_count": 172,
   "id": "4baaba4d",
   "metadata": {},
   "outputs": [],
   "source": [
    "mySet.add(1)"
   ]
  },
  {
   "cell_type": "code",
   "execution_count": 174,
   "id": "f956cd43",
   "metadata": {},
   "outputs": [
    {
     "data": {
      "text/plain": [
       "{1}"
      ]
     },
     "execution_count": 174,
     "metadata": {},
     "output_type": "execute_result"
    }
   ],
   "source": [
    "mySet"
   ]
  },
  {
   "cell_type": "code",
   "execution_count": 176,
   "id": "00625eb8",
   "metadata": {},
   "outputs": [],
   "source": [
    "mySet.add(2)"
   ]
  },
  {
   "cell_type": "code",
   "execution_count": 177,
   "id": "6f22fd1b",
   "metadata": {},
   "outputs": [
    {
     "data": {
      "text/plain": [
       "{1, 2}"
      ]
     },
     "execution_count": 177,
     "metadata": {},
     "output_type": "execute_result"
    }
   ],
   "source": [
    "mySet\n"
   ]
  },
  {
   "cell_type": "code",
   "execution_count": 178,
   "id": "2d3845f1",
   "metadata": {},
   "outputs": [],
   "source": [
    "mylist = [1,1,1,1,1,1,1,2,2,2,3,3,3]"
   ]
  },
  {
   "cell_type": "code",
   "execution_count": 181,
   "id": "ac8a3d18",
   "metadata": {},
   "outputs": [
    {
     "data": {
      "text/plain": [
       "{1, 2, 3}"
      ]
     },
     "execution_count": 181,
     "metadata": {},
     "output_type": "execute_result"
    }
   ],
   "source": [
    "set(mylist)"
   ]
  },
  {
   "cell_type": "markdown",
   "id": "0589ace1",
   "metadata": {},
   "source": [
    "# booleans(CAPITAL T , CAPITAL F)(TRUE/FALSE)"
   ]
  },
  {
   "cell_type": "code",
   "execution_count": 182,
   "id": "59dcd527",
   "metadata": {},
   "outputs": [
    {
     "data": {
      "text/plain": [
       "True"
      ]
     },
     "execution_count": 182,
     "metadata": {},
     "output_type": "execute_result"
    }
   ],
   "source": [
    "1 ==1"
   ]
  },
  {
   "cell_type": "code",
   "execution_count": 183,
   "id": "533b88e0",
   "metadata": {},
   "outputs": [
    {
     "data": {
      "text/plain": [
       "False"
      ]
     },
     "execution_count": 183,
     "metadata": {},
     "output_type": "execute_result"
    }
   ],
   "source": [
    "233<22"
   ]
  },
  {
   "cell_type": "markdown",
   "id": "3c7091eb",
   "metadata": {},
   "source": [
    "# none placeholder(None)Capital \"N\""
   ]
  },
  {
   "cell_type": "code",
   "execution_count": 184,
   "id": "dba402a9",
   "metadata": {},
   "outputs": [
    {
     "ename": "NameError",
     "evalue": "name 'b' is not defined",
     "output_type": "error",
     "traceback": [
      "\u001b[0;31m---------------------------------------------------------------------------\u001b[0m",
      "\u001b[0;31mNameError\u001b[0m                                 Traceback (most recent call last)",
      "Cell \u001b[0;32mIn [184], line 1\u001b[0m\n\u001b[0;32m----> 1\u001b[0m \u001b[43mb\u001b[49m\n",
      "\u001b[0;31mNameError\u001b[0m: name 'b' is not defined"
     ]
    }
   ],
   "source": [
    "b#without none giving error"
   ]
  },
  {
   "cell_type": "code",
   "execution_count": 186,
   "id": "9880edd7",
   "metadata": {},
   "outputs": [],
   "source": [
    "c = None#with None no error "
   ]
  },
  {
   "cell_type": "markdown",
   "id": "8592e50d",
   "metadata": {},
   "source": [
    "# files"
   ]
  },
  {
   "cell_type": "code",
   "execution_count": 187,
   "id": "b3585811",
   "metadata": {},
   "outputs": [
    {
     "name": "stdout",
     "output_type": "stream",
     "text": [
      "Writing saxxy.txt\n"
     ]
    }
   ],
   "source": [
    "%%writefile saxxy.txt\n",
    "Hello this is a text file\n",
    "this is a second line\n",
    "this is a third\n",
    "this is a third\n",
    "this is a thirdthis is a third\n"
   ]
  },
  {
   "cell_type": "code",
   "execution_count": 188,
   "id": "1dd05054",
   "metadata": {},
   "outputs": [],
   "source": [
    "myfile = open(\"saxxy.txt\")"
   ]
  },
  {
   "cell_type": "code",
   "execution_count": 189,
   "id": "1608b7ad",
   "metadata": {},
   "outputs": [
    {
     "data": {
      "text/plain": [
       "'/home/srijon/Desktop/python'"
      ]
     },
     "execution_count": 189,
     "metadata": {},
     "output_type": "execute_result"
    }
   ],
   "source": [
    "pwd\n"
   ]
  },
  {
   "cell_type": "code",
   "execution_count": 190,
   "id": "6a33d964",
   "metadata": {},
   "outputs": [
    {
     "data": {
      "text/plain": [
       "'Hello this is a text file\\nthis is a second line\\nthis is a third\\nthis is a third\\nthis is a thirdthis is a third\\n'"
      ]
     },
     "execution_count": 190,
     "metadata": {},
     "output_type": "execute_result"
    }
   ],
   "source": [
    "myfile.read()"
   ]
  },
  {
   "cell_type": "code",
   "execution_count": 191,
   "id": "f03ffaad",
   "metadata": {},
   "outputs": [
    {
     "data": {
      "text/plain": [
       "''"
      ]
     },
     "execution_count": 191,
     "metadata": {},
     "output_type": "execute_result"
    }
   ],
   "source": [
    "myfile.read()"
   ]
  },
  {
   "cell_type": "code",
   "execution_count": 194,
   "id": "f5ad788e",
   "metadata": {},
   "outputs": [
    {
     "data": {
      "text/plain": [
       "0"
      ]
     },
     "execution_count": 194,
     "metadata": {},
     "output_type": "execute_result"
    }
   ],
   "source": [
    "myfile.seek(0)"
   ]
  },
  {
   "cell_type": "code",
   "execution_count": 195,
   "id": "fba7c2b9",
   "metadata": {},
   "outputs": [],
   "source": [
    "myFileContents = myfile.read()"
   ]
  },
  {
   "cell_type": "code",
   "execution_count": 196,
   "id": "3b0c4e4b",
   "metadata": {},
   "outputs": [
    {
     "data": {
      "text/plain": [
       "'Hello this is a text file\\nthis is a second line\\nthis is a third\\nthis is a third\\nthis is a thirdthis is a third\\n'"
      ]
     },
     "execution_count": 196,
     "metadata": {},
     "output_type": "execute_result"
    }
   ],
   "source": [
    "myFileContents"
   ]
  },
  {
   "cell_type": "code",
   "execution_count": 198,
   "id": "70279aa7",
   "metadata": {},
   "outputs": [],
   "source": [
    "myfile.close()"
   ]
  },
  {
   "cell_type": "code",
   "execution_count": 201,
   "id": "48008414",
   "metadata": {},
   "outputs": [],
   "source": [
    "with open('saxxy.txt') as myNewFileJupyter:\n",
    "    contents = myNewFileJupyter.read()#if we do this we dont have to use the .close()"
   ]
  },
  {
   "cell_type": "code",
   "execution_count": 202,
   "id": "4e31e028",
   "metadata": {},
   "outputs": [
    {
     "data": {
      "text/plain": [
       "'Hello this is a text file\\nthis is a second line\\nthis is a third\\nthis is a third\\nthis is a thirdthis is a third\\n'"
      ]
     },
     "execution_count": 202,
     "metadata": {},
     "output_type": "execute_result"
    }
   ],
   "source": [
    "contents"
   ]
  },
  {
   "cell_type": "code",
   "execution_count": 205,
   "id": "7c0f14a3",
   "metadata": {},
   "outputs": [
    {
     "name": "stdout",
     "output_type": "stream",
     "text": [
      "Overwriting newFile.txt\n"
     ]
    }
   ],
   "source": [
    "%%writefile newFile.txt\n",
    "word  word  word  word  word  word  word  word  word\n",
    "word  word  word  word  word  word word word word word\n",
    " word word word word word word word word\n",
    "        "
   ]
  },
  {
   "cell_type": "code",
   "execution_count": 207,
   "id": "968637f3",
   "metadata": {},
   "outputs": [
    {
     "name": "stdout",
     "output_type": "stream",
     "text": [
      "word  word  word  word  word  word  word  word  word\n",
      "word  word  word  word  word  word word word word word\n",
      " word word word word word word word word\n",
      "        \n",
      "\n"
     ]
    }
   ],
   "source": [
    "with open(\"newFile.txt\" , mode = \"r\" ) as nf:\n",
    "    print(nf.read())"
   ]
  },
  {
   "cell_type": "code",
   "execution_count": 208,
   "id": "25891281",
   "metadata": {},
   "outputs": [],
   "source": [
    "with open(\"newFile.txt\" , mode = \"a\" ) as nf:\n",
    "    nf.write(\" word1 \")\n",
    "    "
   ]
  },
  {
   "cell_type": "code",
   "execution_count": 209,
   "id": "3c4f1c2b",
   "metadata": {},
   "outputs": [
    {
     "name": "stdout",
     "output_type": "stream",
     "text": [
      "word  word  word  word  word  word  word  word  word\n",
      "word  word  word  word  word  word word word word word\n",
      " word word word word word word word word\n",
      "        \n",
      " word1 \n"
     ]
    }
   ],
   "source": [
    "with open(\"newFile.txt\" , mode = \"r\" ) as nf:\n",
    "    print(nf.read())"
   ]
  },
  {
   "cell_type": "code",
   "execution_count": 219,
   "id": "24e55916",
   "metadata": {},
   "outputs": [],
   "source": [
    "with open(\"newFile2\", mode = \"w+\") as nf2:\n",
    "    nf2.write(\"this is new file 2 \")\n",
    "    "
   ]
  },
  {
   "cell_type": "code",
   "execution_count": 220,
   "id": "091a5253",
   "metadata": {},
   "outputs": [
    {
     "name": "stdout",
     "output_type": "stream",
     "text": [
      "this is new file 2 \n"
     ]
    }
   ],
   "source": [
    "with open(\"newFile2\", mode = \"r\") as nf2:\n",
    "    print(nf2.read())"
   ]
  },
  {
   "cell_type": "code",
   "execution_count": 225,
   "id": "3ada33d6",
   "metadata": {},
   "outputs": [
    {
     "name": "stdout",
     "output_type": "stream",
     "text": [
      "this is new file 2 this is new file 3 line \n"
     ]
    }
   ],
   "source": [
    "with open(\"newFile2\", mode = \"r+\") as nf2:\n",
    "    print(nf2.read())\n",
    "    nf2.write(\"\\n this is new file 3 line \")"
   ]
  },
  {
   "cell_type": "code",
   "execution_count": 226,
   "id": "aefa9cff",
   "metadata": {},
   "outputs": [
    {
     "name": "stdout",
     "output_type": "stream",
     "text": [
      "this is new file 2 this is new file 3 line \n",
      " this is new file 3 line \n"
     ]
    }
   ],
   "source": [
    "with open(\"newFile2\", mode = \"r\") as nf2:\n",
    "    print(nf2.read())  "
   ]
  },
  {
   "cell_type": "markdown",
   "id": "27ba5c5e",
   "metadata": {},
   "source": [
    "# sorted functions "
   ]
  },
  {
   "cell_type": "code",
   "execution_count": 227,
   "id": "4b3699c1",
   "metadata": {},
   "outputs": [],
   "source": [
    "list5= [5 , 8 , 1 , 34 , 0 ,- 8]"
   ]
  },
  {
   "cell_type": "code",
   "execution_count": 228,
   "id": "815d52e7",
   "metadata": {},
   "outputs": [
    {
     "data": {
      "text/plain": [
       "[-8, 0, 1, 5, 8, 34]"
      ]
     },
     "execution_count": 228,
     "metadata": {},
     "output_type": "execute_result"
    }
   ],
   "source": [
    "sorted(list5)"
   ]
  },
  {
   "cell_type": "code",
   "execution_count": null,
   "id": "7b559840",
   "metadata": {},
   "outputs": [],
   "source": []
  },
  {
   "cell_type": "code",
   "execution_count": null,
   "id": "8d9e5bdb",
   "metadata": {},
   "outputs": [],
   "source": []
  },
  {
   "cell_type": "code",
   "execution_count": null,
   "id": "40343354",
   "metadata": {},
   "outputs": [],
   "source": []
  },
  {
   "cell_type": "code",
   "execution_count": null,
   "id": "0dc80de6",
   "metadata": {},
   "outputs": [],
   "source": []
  },
  {
   "cell_type": "code",
   "execution_count": null,
   "id": "44b92273",
   "metadata": {},
   "outputs": [],
   "source": []
  }
 ],
 "metadata": {
  "kernelspec": {
   "display_name": "Python 3 (ipykernel)",
   "language": "python",
   "name": "python3"
  },
  "language_info": {
   "codemirror_mode": {
    "name": "ipython",
    "version": 3
   },
   "file_extension": ".py",
   "mimetype": "text/x-python",
   "name": "python",
   "nbconvert_exporter": "python",
   "pygments_lexer": "ipython3",
   "version": "3.10.5"
  }
 },
 "nbformat": 4,
 "nbformat_minor": 5
}
